{
 "cells": [
  {
   "cell_type": "code",
   "execution_count": 1,
   "id": "575aad54-733e-470e-bc9b-8432f1a133d8",
   "metadata": {},
   "outputs": [
    {
     "name": "stdout",
     "output_type": "stream",
     "text": [
      "name='portfolio' id=UUID('35076954-c1ff-40b6-84a4-362a3acfa956') metadata=None tenant='default_tenant' database='default_database'\n"
     ]
    }
   ],
   "source": [
    "import chromadb\n",
    "\n",
    "client = chromadb.Client()  # No arguments needed for default settings\n",
    "collection = client.get_or_create_collection(name=\"portfolio\")\n",
    "print(collection)\n"
   ]
  },
  {
   "cell_type": "code",
   "execution_count": null,
   "id": "db891f55",
   "metadata": {},
   "outputs": [],
   "source": [
    "import chromadb\n",
    "\n",
    "client = chromadb.Client()\n",
    "collection = client.create_collection(name=\"my_collection\")"
   ]
  },
  {
   "cell_type": "code",
   "execution_count": null,
   "id": "99f6a470-666e-4d65-848d-fd6a09fb4bfc",
   "metadata": {},
   "outputs": [],
   "source": [
    "docs = collection.get(ids=[\"id1\"])\n",
    "docs"
   ]
  },
  {
   "cell_type": "code",
   "execution_count": null,
   "id": "3ed81d53-e4a7-431f-929e-9cb77d9658de",
   "metadata": {},
   "outputs": [],
   "source": []
  },
  {
   "cell_type": "code",
   "execution_count": null,
   "id": "7a6b490e-7fd1-4c03-84c8-beadbcbc0371",
   "metadata": {},
   "outputs": [],
   "source": []
  }
 ],
 "metadata": {
  "kernelspec": {
   "display_name": "Python 3 (ipykernel)",
   "language": "python",
   "name": "python3"
  },
  "language_info": {
   "codemirror_mode": {
    "name": "ipython",
    "version": 3
   },
   "file_extension": ".py",
   "mimetype": "text/x-python",
   "name": "python",
   "nbconvert_exporter": "python",
   "pygments_lexer": "ipython3",
   "version": "3.12.4"
  }
 },
 "nbformat": 4,
 "nbformat_minor": 5
}
